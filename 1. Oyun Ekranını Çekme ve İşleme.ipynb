{
 "cells": [
  {
   "cell_type": "code",
   "execution_count": 1,
   "id": "d355657d",
   "metadata": {},
   "outputs": [],
   "source": [
    "# KÜTÜPHANELER\n",
    "\n",
    "#!pip install opencv-python\n",
    "#!pip install numpy\n",
    "#!pip install pillow"
   ]
  },
  {
   "cell_type": "code",
   "execution_count": 1,
   "id": "ec3a00e3",
   "metadata": {},
   "outputs": [],
   "source": [
    "import cv2\n",
    "import numpy as np\n",
    "from PIL import ImageGrab"
   ]
  },
  {
   "cell_type": "code",
   "execution_count": 6,
   "id": "4ec4311a",
   "metadata": {},
   "outputs": [],
   "source": [
    "while True:\n",
    "    frame = np.array(ImageGrab.grab(bbox=(10,50,800,630)))\n",
    "    rgb = cv2.cvtColor(frame, cv2.COLOR_BGR2RGB)\n",
    "    gray = cv2.cvtColor(frame, cv2.COLOR_BGR2GRAY)\n",
    "    #ret,thresh = cv2.threshold(gray,127,255,cv2.THRESH_BINARY)\n",
    "    edges = cv2.Canny(gray,200,250,apertureSize = 3)\n",
    "    lines = cv2.HoughLinesP(edges,1,np.pi/180,100,minLineLength=100,maxLineGap=10)\n",
    "    for line in lines:\n",
    "        x1,y1,x2,y2 = line[0]\n",
    "        cv2.line(frame,(x1,y1),(x2,y2),(0,255,0),2)\n",
    "    cv2.imshow(\"GTA 5\", frame)\n",
    "    if cv2.waitKey(10) & 0xFF == ord(\"q\"):\n",
    "        cv2.destroyAllWindows()\n",
    "        break"
   ]
  }
 ],
 "metadata": {
  "kernelspec": {
   "display_name": "Python 3 (ipykernel)",
   "language": "python",
   "name": "python3"
  },
  "language_info": {
   "codemirror_mode": {
    "name": "ipython",
    "version": 3
   },
   "file_extension": ".py",
   "mimetype": "text/x-python",
   "name": "python",
   "nbconvert_exporter": "python",
   "pygments_lexer": "ipython3",
   "version": "3.7.4"
  }
 },
 "nbformat": 4,
 "nbformat_minor": 5
}
