{
 "cells": [
  {
   "cell_type": "code",
   "execution_count": 1,
   "id": "60e1d8d3",
   "metadata": {},
   "outputs": [],
   "source": [
    "import cv2\n",
    "import numpy as np"
   ]
  },
  {
   "cell_type": "code",
   "execution_count": 16,
   "id": "a7b9d7c9",
   "metadata": {},
   "outputs": [],
   "source": [
    "image = np.zeros((480,640))\n",
    "#print(image.shape)\n",
    "cv2.circle(image, (320,240), 100, (255,255,255), -1)\n",
    "\n",
    "image_1 = np.zeros((480,640))\n",
    "\n",
    "contours = np.array([[60,60],[60,160],[300,300],[160,60]])\n",
    "cv2.fillPoly(image_1, pts=[contours], color = (255,255,255))\n",
    "\n",
    "\n",
    "masked_image = cv2.bitwise_and(image,image_1)\n",
    "\n",
    "cv2.imshow(\"Black Screen\",image)\n",
    "cv2.imshow(\"Black Screen 1\",image_1)\n",
    "cv2.imshow(\"Black Screen 2\",masked_image)\n",
    "cv2.waitKey(0)\n",
    "cv2.destroyAllWindows()"
   ]
  },
  {
   "cell_type": "code",
   "execution_count": 20,
   "id": "f81d614c",
   "metadata": {},
   "outputs": [],
   "source": [
    "import cv2\n",
    "import numpy as np\n",
    "from PIL import ImageGrab"
   ]
  },
  {
   "cell_type": "code",
   "execution_count": 33,
   "id": "bf95147f",
   "metadata": {},
   "outputs": [],
   "source": [
    "def process_image(img):\n",
    "    rgb = cv2.cvtColor(frame, cv2.COLOR_BGR2RGB)\n",
    "    gray = cv2.cvtColor(rgb, cv2.COLOR_RGB2GRAY)\n",
    "    #ret,thresh = cv2.threshold(gray,127,255,cv2.THRESH_BINARY)\n",
    "    processed_image = cv2.Canny(gray,200,250,apertureSize = 3)\n",
    "    return processed_image\n",
    "\n",
    "def draw_line(processed_image):\n",
    "    lines = cv2.HoughLinesP(processed_image,1,np.pi/180,100,minLineLength=100,maxLineGap=10)\n",
    "    for line in lines:\n",
    "        x1,y1,x2,y2 = line[0]\n",
    "        cv2.line(frame,(x1,y1),(x2,y2),(0,255,0),2)\n",
    "    return frame\n",
    "\n",
    "def roi(img, vertices):\n",
    "    mask = np.zeros_like(img)\n",
    "    cv2.fillPoly(mask, vertices, (255,255,255))\n",
    "    masked_image = cv2.bitwise_and(img,mask)\n",
    "    return masked_image"
   ]
  },
  {
   "cell_type": "code",
   "execution_count": 47,
   "id": "f315a15a",
   "metadata": {},
   "outputs": [],
   "source": [
    "while True:\n",
    "    frame = np.array(ImageGrab.grab(bbox=(10,50,800,630)))\n",
    "    processed_image = process_image(frame)\n",
    "    vertices = np.array([[395,100],[0,290],[790,290]]) \n",
    "    masked_image = roi(processed_image, [vertices])\n",
    "\n",
    "    cv2.imshow(\"GTA 5\", masked_image)\n",
    "    if cv2.waitKey(10) & 0xFF == ord(\"q\"):\n",
    "        cv2.destroyAllWindows()\n",
    "        break"
   ]
  },
  {
   "cell_type": "code",
   "execution_count": 37,
   "id": "a2d23c35",
   "metadata": {},
   "outputs": [
    {
     "data": {
      "text/plain": [
       "(580, 790, 3)"
      ]
     },
     "execution_count": 37,
     "metadata": {},
     "output_type": "execute_result"
    }
   ],
   "source": [
    "frame.shape"
   ]
  }
 ],
 "metadata": {
  "kernelspec": {
   "display_name": "Python 3 (ipykernel)",
   "language": "python",
   "name": "python3"
  },
  "language_info": {
   "codemirror_mode": {
    "name": "ipython",
    "version": 3
   },
   "file_extension": ".py",
   "mimetype": "text/x-python",
   "name": "python",
   "nbconvert_exporter": "python",
   "pygments_lexer": "ipython3",
   "version": "3.7.4"
  }
 },
 "nbformat": 4,
 "nbformat_minor": 5
}
